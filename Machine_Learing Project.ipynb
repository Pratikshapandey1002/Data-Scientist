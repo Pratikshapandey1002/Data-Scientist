{
 "cells": [
  {
   "cell_type": "code",
   "execution_count": 1,
   "id": "9899cb2d-da71-472f-ad1f-d95b0ed8096c",
   "metadata": {
    "tags": []
   },
   "outputs": [],
   "source": [
    "import pandas as pd\n",
    "import numpy as np"
   ]
  },
  {
   "cell_type": "code",
   "execution_count": 2,
   "id": "40b5550d-6f9a-479d-a433-c2da6d84a3d0",
   "metadata": {
    "tags": []
   },
   "outputs": [],
   "source": [
    "election = pd.read_csv(\"Election_Data.csv\")"
   ]
  },
  {
   "cell_type": "markdown",
   "id": "c0f696d6-a8a1-4029-94b2-3ab96db7cee2",
   "metadata": {},
   "source": [
    "## Data Ingestion"
   ]
  },
  {
   "cell_type": "markdown",
   "id": "ea6742bb-4fcf-43ed-bb5a-8a484f77a8f4",
   "metadata": {},
   "source": [
    "#### The dataset has been loaded and viewed to understand the context. Followed by that as part of EDA, null values, duplicates and outlier checks are done to make the dataset cleaner for further desciptive analysis and model application."
   ]
  },
  {
   "cell_type": "code",
   "execution_count": 3,
   "id": "aaccd5c5-f533-4d82-9dfd-8eeea49aaf6e",
   "metadata": {
    "tags": []
   },
   "outputs": [
    {
     "data": {
      "text/html": [
       "<div>\n",
       "<style scoped>\n",
       "    .dataframe tbody tr th:only-of-type {\n",
       "        vertical-align: middle;\n",
       "    }\n",
       "\n",
       "    .dataframe tbody tr th {\n",
       "        vertical-align: top;\n",
       "    }\n",
       "\n",
       "    .dataframe thead th {\n",
       "        text-align: right;\n",
       "    }\n",
       "</style>\n",
       "<table border=\"1\" class=\"dataframe\">\n",
       "  <thead>\n",
       "    <tr style=\"text-align: right;\">\n",
       "      <th></th>\n",
       "      <th>Unnamed: 0</th>\n",
       "      <th>vote</th>\n",
       "      <th>age</th>\n",
       "      <th>economic.cond.national</th>\n",
       "      <th>economic.cond.household</th>\n",
       "      <th>Blair</th>\n",
       "      <th>Hague</th>\n",
       "      <th>Europe</th>\n",
       "      <th>political.knowledge</th>\n",
       "      <th>gender</th>\n",
       "    </tr>\n",
       "  </thead>\n",
       "  <tbody>\n",
       "    <tr>\n",
       "      <th>0</th>\n",
       "      <td>1</td>\n",
       "      <td>Labour</td>\n",
       "      <td>43</td>\n",
       "      <td>3</td>\n",
       "      <td>3</td>\n",
       "      <td>4</td>\n",
       "      <td>1</td>\n",
       "      <td>2</td>\n",
       "      <td>2</td>\n",
       "      <td>female</td>\n",
       "    </tr>\n",
       "    <tr>\n",
       "      <th>1</th>\n",
       "      <td>2</td>\n",
       "      <td>Labour</td>\n",
       "      <td>36</td>\n",
       "      <td>4</td>\n",
       "      <td>4</td>\n",
       "      <td>4</td>\n",
       "      <td>4</td>\n",
       "      <td>5</td>\n",
       "      <td>2</td>\n",
       "      <td>male</td>\n",
       "    </tr>\n",
       "    <tr>\n",
       "      <th>2</th>\n",
       "      <td>3</td>\n",
       "      <td>Labour</td>\n",
       "      <td>35</td>\n",
       "      <td>4</td>\n",
       "      <td>4</td>\n",
       "      <td>5</td>\n",
       "      <td>2</td>\n",
       "      <td>3</td>\n",
       "      <td>2</td>\n",
       "      <td>male</td>\n",
       "    </tr>\n",
       "    <tr>\n",
       "      <th>3</th>\n",
       "      <td>4</td>\n",
       "      <td>Labour</td>\n",
       "      <td>24</td>\n",
       "      <td>4</td>\n",
       "      <td>2</td>\n",
       "      <td>2</td>\n",
       "      <td>1</td>\n",
       "      <td>4</td>\n",
       "      <td>0</td>\n",
       "      <td>female</td>\n",
       "    </tr>\n",
       "    <tr>\n",
       "      <th>4</th>\n",
       "      <td>5</td>\n",
       "      <td>Labour</td>\n",
       "      <td>41</td>\n",
       "      <td>2</td>\n",
       "      <td>2</td>\n",
       "      <td>1</td>\n",
       "      <td>1</td>\n",
       "      <td>6</td>\n",
       "      <td>2</td>\n",
       "      <td>male</td>\n",
       "    </tr>\n",
       "  </tbody>\n",
       "</table>\n",
       "</div>"
      ],
      "text/plain": [
       "   Unnamed: 0    vote  age  economic.cond.national  economic.cond.household  \\\n",
       "0           1  Labour   43                       3                        3   \n",
       "1           2  Labour   36                       4                        4   \n",
       "2           3  Labour   35                       4                        4   \n",
       "3           4  Labour   24                       4                        2   \n",
       "4           5  Labour   41                       2                        2   \n",
       "\n",
       "   Blair  Hague  Europe  political.knowledge  gender  \n",
       "0      4      1       2                    2  female  \n",
       "1      4      4       5                    2    male  \n",
       "2      5      2       3                    2    male  \n",
       "3      2      1       4                    0  female  \n",
       "4      1      1       6                    2    male  "
      ]
     },
     "execution_count": 3,
     "metadata": {},
     "output_type": "execute_result"
    }
   ],
   "source": [
    "election.head()"
   ]
  },
  {
   "cell_type": "markdown",
   "id": "f53611df-0b88-41f5-b967-cb798b995f50",
   "metadata": {},
   "source": [
    "### Exploratory Data Analysis"
   ]
  },
  {
   "cell_type": "code",
   "execution_count": 4,
   "id": "dde1a94f-8605-46d5-b708-17c2ceaa8f08",
   "metadata": {
    "tags": []
   },
   "outputs": [
    {
     "data": {
      "text/html": [
       "<div>\n",
       "<style scoped>\n",
       "    .dataframe tbody tr th:only-of-type {\n",
       "        vertical-align: middle;\n",
       "    }\n",
       "\n",
       "    .dataframe tbody tr th {\n",
       "        vertical-align: top;\n",
       "    }\n",
       "\n",
       "    .dataframe thead th {\n",
       "        text-align: right;\n",
       "    }\n",
       "</style>\n",
       "<table border=\"1\" class=\"dataframe\">\n",
       "  <thead>\n",
       "    <tr style=\"text-align: right;\">\n",
       "      <th></th>\n",
       "      <th>vote</th>\n",
       "      <th>age</th>\n",
       "      <th>economic.cond.national</th>\n",
       "      <th>economic.cond.household</th>\n",
       "      <th>Blair</th>\n",
       "      <th>Hague</th>\n",
       "      <th>Europe</th>\n",
       "      <th>political.knowledge</th>\n",
       "      <th>gender</th>\n",
       "    </tr>\n",
       "  </thead>\n",
       "  <tbody>\n",
       "    <tr>\n",
       "      <th>0</th>\n",
       "      <td>Labour</td>\n",
       "      <td>43</td>\n",
       "      <td>3</td>\n",
       "      <td>3</td>\n",
       "      <td>4</td>\n",
       "      <td>1</td>\n",
       "      <td>2</td>\n",
       "      <td>2</td>\n",
       "      <td>female</td>\n",
       "    </tr>\n",
       "    <tr>\n",
       "      <th>1</th>\n",
       "      <td>Labour</td>\n",
       "      <td>36</td>\n",
       "      <td>4</td>\n",
       "      <td>4</td>\n",
       "      <td>4</td>\n",
       "      <td>4</td>\n",
       "      <td>5</td>\n",
       "      <td>2</td>\n",
       "      <td>male</td>\n",
       "    </tr>\n",
       "    <tr>\n",
       "      <th>2</th>\n",
       "      <td>Labour</td>\n",
       "      <td>35</td>\n",
       "      <td>4</td>\n",
       "      <td>4</td>\n",
       "      <td>5</td>\n",
       "      <td>2</td>\n",
       "      <td>3</td>\n",
       "      <td>2</td>\n",
       "      <td>male</td>\n",
       "    </tr>\n",
       "    <tr>\n",
       "      <th>3</th>\n",
       "      <td>Labour</td>\n",
       "      <td>24</td>\n",
       "      <td>4</td>\n",
       "      <td>2</td>\n",
       "      <td>2</td>\n",
       "      <td>1</td>\n",
       "      <td>4</td>\n",
       "      <td>0</td>\n",
       "      <td>female</td>\n",
       "    </tr>\n",
       "    <tr>\n",
       "      <th>4</th>\n",
       "      <td>Labour</td>\n",
       "      <td>41</td>\n",
       "      <td>2</td>\n",
       "      <td>2</td>\n",
       "      <td>1</td>\n",
       "      <td>1</td>\n",
       "      <td>6</td>\n",
       "      <td>2</td>\n",
       "      <td>male</td>\n",
       "    </tr>\n",
       "  </tbody>\n",
       "</table>\n",
       "</div>"
      ],
      "text/plain": [
       "     vote  age  economic.cond.national  economic.cond.household  Blair  Hague  \\\n",
       "0  Labour   43                       3                        3      4      1   \n",
       "1  Labour   36                       4                        4      4      4   \n",
       "2  Labour   35                       4                        4      5      2   \n",
       "3  Labour   24                       4                        2      2      1   \n",
       "4  Labour   41                       2                        2      1      1   \n",
       "\n",
       "   Europe  political.knowledge  gender  \n",
       "0       2                    2  female  \n",
       "1       5                    2    male  \n",
       "2       3                    2    male  \n",
       "3       4                    0  female  \n",
       "4       6                    2    male  "
      ]
     },
     "execution_count": 4,
     "metadata": {},
     "output_type": "execute_result"
    }
   ],
   "source": [
    "election=election.iloc[:,1:]\n",
    "election.head()"
   ]
  },
  {
   "cell_type": "code",
   "execution_count": 5,
   "id": "f699e096-9e62-4f4e-b67d-043853aacc86",
   "metadata": {
    "tags": []
   },
   "outputs": [
    {
     "name": "stdout",
     "output_type": "stream",
     "text": [
      "<class 'pandas.core.frame.DataFrame'>\n",
      "RangeIndex: 1525 entries, 0 to 1524\n",
      "Data columns (total 9 columns):\n",
      " #   Column                   Non-Null Count  Dtype \n",
      "---  ------                   --------------  ----- \n",
      " 0   vote                     1525 non-null   object\n",
      " 1   age                      1525 non-null   int64 \n",
      " 2   economic.cond.national   1525 non-null   int64 \n",
      " 3   economic.cond.household  1525 non-null   int64 \n",
      " 4   Blair                    1525 non-null   int64 \n",
      " 5   Hague                    1525 non-null   int64 \n",
      " 6   Europe                   1525 non-null   int64 \n",
      " 7   political.knowledge      1525 non-null   int64 \n",
      " 8   gender                   1525 non-null   object\n",
      "dtypes: int64(7), object(2)\n",
      "memory usage: 107.4+ KB\n"
     ]
    }
   ],
   "source": [
    "election.info()"
   ]
  },
  {
   "cell_type": "code",
   "execution_count": 6,
   "id": "02524ebc-7970-4ad2-afe3-63732b8c5b29",
   "metadata": {
    "tags": []
   },
   "outputs": [
    {
     "data": {
      "text/plain": [
       "(1525, 9)"
      ]
     },
     "execution_count": 6,
     "metadata": {},
     "output_type": "execute_result"
    }
   ],
   "source": [
    "election.shape"
   ]
  },
  {
   "cell_type": "code",
   "execution_count": 7,
   "id": "9d0e0d39-5d3a-415f-af9f-2251fd9643f7",
   "metadata": {
    "tags": []
   },
   "outputs": [
    {
     "data": {
      "text/plain": [
       "Index(['vote', 'age', 'economic.cond.national', 'economic.cond.household',\n",
       "       'Blair', 'Hague', 'Europe', 'political.knowledge', 'gender'],\n",
       "      dtype='object')"
      ]
     },
     "execution_count": 7,
     "metadata": {},
     "output_type": "execute_result"
    }
   ],
   "source": [
    "election.columns"
   ]
  },
  {
   "cell_type": "markdown",
   "id": "873b5f0d-0850-4660-a8bf-19185df2dff9",
   "metadata": {},
   "source": [
    "### Checking for null and duplicate values"
   ]
  },
  {
   "cell_type": "code",
   "execution_count": 8,
   "id": "60df7e80-8149-4568-ab97-bbbc9a125f54",
   "metadata": {
    "tags": []
   },
   "outputs": [
    {
     "name": "stdout",
     "output_type": "stream",
     "text": [
      "Number of null values in vote column: 0\n",
      "Number of null values in age column: 0\n",
      "Number of null values in economic.cond.national column: 0\n",
      "Number of null values in economic.cond.household column: 0\n",
      "Number of null values in Blair column: 0\n",
      "Number of null values in Hague column: 0\n",
      "Number of null values in Europe column: 0\n",
      "Number of null values in political.knowledge column: 0\n",
      "Number of null values in gender column: 0\n"
     ]
    }
   ],
   "source": [
    "for col in election.columns:\n",
    "    print(\"Number of null values in \"+col+\" column: \"+str(election[col].isnull().sum()))"
   ]
  },
  {
   "cell_type": "code",
   "execution_count": 9,
   "id": "87d55bbd-13f7-4fe5-9cc8-258c1eb6553f",
   "metadata": {
    "tags": []
   },
   "outputs": [
    {
     "name": "stdout",
     "output_type": "stream",
     "text": [
      "8\n"
     ]
    }
   ],
   "source": [
    "print(election.duplicated().sum())"
   ]
  },
  {
   "cell_type": "code",
   "execution_count": 10,
   "id": "3917f09e-0ba5-43b9-84a7-57c616da5d62",
   "metadata": {
    "tags": []
   },
   "outputs": [],
   "source": [
    "election=election.drop_duplicates()"
   ]
  },
  {
   "cell_type": "code",
   "execution_count": 11,
   "id": "32462aa6-7c2a-4ca4-8aed-c73e11a12dc0",
   "metadata": {
    "tags": []
   },
   "outputs": [
    {
     "name": "stdout",
     "output_type": "stream",
     "text": [
      "0\n"
     ]
    }
   ],
   "source": [
    "print(election.duplicated().sum())"
   ]
  },
  {
   "cell_type": "code",
   "execution_count": 12,
   "id": "40099c03-3f65-40c8-ae1f-db2c8252a14e",
   "metadata": {
    "tags": []
   },
   "outputs": [
    {
     "data": {
      "text/plain": [
       "(1517, 9)"
      ]
     },
     "execution_count": 12,
     "metadata": {},
     "output_type": "execute_result"
    }
   ],
   "source": [
    "election.shape"
   ]
  },
  {
   "cell_type": "markdown",
   "id": "74839629-e71a-4b4a-b6b0-52745005ca37",
   "metadata": {},
   "source": [
    "No null values are found. Eight duplicate records are removed from the data."
   ]
  },
  {
   "cell_type": "code",
   "execution_count": 13,
   "id": "27ba1efe-ab56-4158-a1f8-cec6b90716af",
   "metadata": {
    "tags": []
   },
   "outputs": [
    {
     "name": "stdout",
     "output_type": "stream",
     "text": [
      "vote\n",
      "Labour          1057\n",
      "Conservative     460\n",
      "Name: count, dtype: int64\n",
      "\n",
      "\n",
      "gender\n",
      "female    808\n",
      "male      709\n",
      "Name: count, dtype: int64\n",
      "\n",
      "\n"
     ]
    }
   ],
   "source": [
    "for col in election.columns:\n",
    "    if election[col].dtype=='object':\n",
    "        print(election[col].value_counts().sort_values(ascending=False))\n",
    "        print('\\n')"
   ]
  },
  {
   "cell_type": "markdown",
   "id": "1646a6b1-a649-49e3-b003-b7e9d28494cf",
   "metadata": {},
   "source": [
    "### Bivariate Analysis"
   ]
  },
  {
   "cell_type": "markdown",
   "id": "b86a23d2-3a91-42a1-99e8-3b83c01b11b9",
   "metadata": {},
   "source": [
    "### Correlation"
   ]
  },
  {
   "cell_type": "code",
   "execution_count": 14,
   "id": "7118e50c-a6b0-428c-86a0-e5f2248ecf2c",
   "metadata": {
    "tags": []
   },
   "outputs": [],
   "source": [
    "correlation=election[['economic.cond.national','economic.cond.household','Blair','Hague','Europe','political.knowledge','age']].corr()"
   ]
  },
  {
   "cell_type": "code",
   "execution_count": 15,
   "id": "b8213cb9-f1cc-4cae-95a6-7b665c600d10",
   "metadata": {
    "tags": []
   },
   "outputs": [
    {
     "data": {
      "image/png": "[encoded data removed]",
      "text/plain": [
       "<Figure size 800x600 with 2 Axes>"
      ]
     },
     "metadata": {},
     "output_type": "display_data"
    }
   ],
   "source": [
    "import seaborn as sns\n",
    "import matplotlib.pyplot as plt\n",
    "plt.figure(figsize=(8, 6))\n",
    "sns.heatmap(correlation,annot=True,fmt=\".3f\")\n",
    "plt.title('Correlation Heatmap')\n",
    "plt.show()"
   ]
  },
  {
   "cell_type": "markdown",
   "id": "e99a2259-282d-4ebf-8b24-fcaf6db52ad5",
   "metadata": {},
   "source": [
    "#### There is a positive correlation between National Economic Condition and Household Economic Condition ranging upto 35% which can be considered as moderate as it is below 50% and used for ML model application. The rest are ignored because they are either postively or negatively correlated below 35%"
   ]
  },
  {
   "cell_type": "markdown",
   "id": "075d2438-8132-41d1-8796-f2d24db98557",
   "metadata": {},
   "source": [
    "### Outliers"
   ]
  },
  {
   "cell_type": "code",
   "execution_count": 16,
   "id": "82d388cf-332a-4eef-a9a0-e6c05708e47b",
   "metadata": {
    "tags": []
   },
   "outputs": [
    {
     "data": {
      "image/png": "[encoded data removed]",
      "text/plain": [
       "<Figure size 1500x600 with 1 Axes>"
      ]
     },
     "metadata": {},
     "output_type": "display_data"
    }
   ],
   "source": [
    "plt.figure(figsize=(15, 6))\n",
    "sns.boxplot(election,orient='h')\n",
    "plt.grid()\n",
    "plt.show()"
   ]
  },
  {
   "cell_type": "markdown",
   "id": "962e3103-7ec0-4a07-a189-571a1bbf84f4",
   "metadata": {},
   "source": [
    "#### There are no significant outliers identified in the data as everything is in the scale of 1 to 5 for Household Economic Condition and Household Economic Condition. Hence the scale value of 1 can't be considered as an outlier in this context."
   ]
  },
  {
   "cell_type": "code",
   "execution_count": 19,
   "id": "6ae00be5-e0b0-4465-a19a-535a63fba7a8",
   "metadata": {
    "tags": []
   },
   "outputs": [
    {
     "data": {
      "text/html": [
       "<div>\n",
       "<style scoped>\n",
       "    .dataframe tbody tr th:only-of-type {\n",
       "        vertical-align: middle;\n",
       "    }\n",
       "\n",
       "    .dataframe tbody tr th {\n",
       "        vertical-align: top;\n",
       "    }\n",
       "\n",
       "    .dataframe thead th {\n",
       "        text-align: right;\n",
       "    }\n",
       "</style>\n",
       "<table border=\"1\" class=\"dataframe\">\n",
       "  <thead>\n",
       "    <tr style=\"text-align: right;\">\n",
       "      <th></th>\n",
       "      <th>vote</th>\n",
       "      <th>age</th>\n",
       "      <th>economic.cond.national</th>\n",
       "      <th>economic.cond.household</th>\n",
       "      <th>Blair</th>\n",
       "      <th>Hague</th>\n",
       "      <th>Europe</th>\n",
       "      <th>political.knowledge</th>\n",
       "      <th>gender</th>\n",
       "    </tr>\n",
       "  </thead>\n",
       "  <tbody>\n",
       "    <tr>\n",
       "      <th>1520</th>\n",
       "      <td>Conservative</td>\n",
       "      <td>67</td>\n",
       "      <td>5</td>\n",
       "      <td>3</td>\n",
       "      <td>2</td>\n",
       "      <td>4</td>\n",
       "      <td>11</td>\n",
       "      <td>3</td>\n",
       "      <td>male</td>\n",
       "    </tr>\n",
       "    <tr>\n",
       "      <th>1521</th>\n",
       "      <td>Conservative</td>\n",
       "      <td>73</td>\n",
       "      <td>2</td>\n",
       "      <td>2</td>\n",
       "      <td>4</td>\n",
       "      <td>4</td>\n",
       "      <td>8</td>\n",
       "      <td>2</td>\n",
       "      <td>male</td>\n",
       "    </tr>\n",
       "    <tr>\n",
       "      <th>1522</th>\n",
       "      <td>Labour</td>\n",
       "      <td>37</td>\n",
       "      <td>3</td>\n",
       "      <td>3</td>\n",
       "      <td>5</td>\n",
       "      <td>4</td>\n",
       "      <td>2</td>\n",
       "      <td>2</td>\n",
       "      <td>male</td>\n",
       "    </tr>\n",
       "    <tr>\n",
       "      <th>1523</th>\n",
       "      <td>Conservative</td>\n",
       "      <td>61</td>\n",
       "      <td>3</td>\n",
       "      <td>3</td>\n",
       "      <td>1</td>\n",
       "      <td>4</td>\n",
       "      <td>11</td>\n",
       "      <td>2</td>\n",
       "      <td>male</td>\n",
       "    </tr>\n",
       "    <tr>\n",
       "      <th>1524</th>\n",
       "      <td>Conservative</td>\n",
       "      <td>74</td>\n",
       "      <td>2</td>\n",
       "      <td>3</td>\n",
       "      <td>2</td>\n",
       "      <td>4</td>\n",
       "      <td>11</td>\n",
       "      <td>0</td>\n",
       "      <td>female</td>\n",
       "    </tr>\n",
       "  </tbody>\n",
       "</table>\n",
       "</div>"
      ],
      "text/plain": [
       "              vote  age  economic.cond.national  economic.cond.household  \\\n",
       "1520  Conservative   67                       5                        3   \n",
       "1521  Conservative   73                       2                        2   \n",
       "1522        Labour   37                       3                        3   \n",
       "1523  Conservative   61                       3                        3   \n",
       "1524  Conservative   74                       2                        3   \n",
       "\n",
       "      Blair  Hague  Europe  political.knowledge  gender  \n",
       "1520      2      4      11                    3    male  \n",
       "1521      4      4       8                    2    male  \n",
       "1522      5      4       2                    2    male  \n",
       "1523      1      4      11                    2    male  \n",
       "1524      2      4      11                    0  female  "
      ]
     },
     "execution_count": 19,
     "metadata": {},
     "output_type": "execute_result"
    }
   ],
   "source": [
    "election.tail()"
   ]
  },
  {
   "cell_type": "markdown",
   "id": "53fb10e2-021b-418a-a60f-c9ae80adde18",
   "metadata": {},
   "source": [
    "## Data Preparation"
   ]
  },
  {
   "cell_type": "markdown",
   "id": "4ad17c90-5acf-45b9-8553-eb9873df02be",
   "metadata": {},
   "source": [
    "#### For applying model, all categorical variables are converted to numerical columns using label/dummy encoding. As a fincal step, train and test data has been prepared in which suitable machine learning models are applied for future prediction."
   ]
  },
  {
   "cell_type": "markdown",
   "id": "ae3b5ec5-1170-4c3f-a76b-1a6ad9b43dab",
   "metadata": {},
   "source": [
    "### Dummy encoding for categorical columns"
   ]
  },
  {
   "cell_type": "code",
   "execution_count": 20,
   "id": "f37efaa4-59fa-49f4-908d-edab5764a46a",
   "metadata": {
    "tags": []
   },
   "outputs": [],
   "source": [
    "election_dummy=pd.get_dummies(election,drop_first=True,dtype=int)"
   ]
  },
  {
   "cell_type": "code",
   "execution_count": 21,
   "id": "8691af02-1314-4fbc-b310-e091d8afeff4",
   "metadata": {
    "tags": []
   },
   "outputs": [
    {
     "data": {
      "text/html": [
       "<div>\n",
       "<style scoped>\n",
       "    .dataframe tbody tr th:only-of-type {\n",
       "        vertical-align: middle;\n",
       "    }\n",
       "\n",
       "    .dataframe tbody tr th {\n",
       "        vertical-align: top;\n",
       "    }\n",
       "\n",
       "    .dataframe thead th {\n",
       "        text-align: right;\n",
       "    }\n",
       "</style>\n",
       "<table border=\"1\" class=\"dataframe\">\n",
       "  <thead>\n",
       "    <tr style=\"text-align: right;\">\n",
       "      <th></th>\n",
       "      <th>age</th>\n",
       "      <th>economic.cond.national</th>\n",
       "      <th>economic.cond.household</th>\n",
       "      <th>Blair</th>\n",
       "      <th>Hague</th>\n",
       "      <th>Europe</th>\n",
       "      <th>political.knowledge</th>\n",
       "      <th>vote_Labour</th>\n",
       "      <th>gender_male</th>\n",
       "    </tr>\n",
       "  </thead>\n",
       "  <tbody>\n",
       "    <tr>\n",
       "      <th>0</th>\n",
       "      <td>43</td>\n",
       "      <td>3</td>\n",
       "      <td>3</td>\n",
       "      <td>4</td>\n",
       "      <td>1</td>\n",
       "      <td>2</td>\n",
       "      <td>2</td>\n",
       "      <td>1</td>\n",
       "      <td>0</td>\n",
       "    </tr>\n",
       "    <tr>\n",
       "      <th>1</th>\n",
       "      <td>36</td>\n",
       "      <td>4</td>\n",
       "      <td>4</td>\n",
       "      <td>4</td>\n",
       "      <td>4</td>\n",
       "      <td>5</td>\n",
       "      <td>2</td>\n",
       "      <td>1</td>\n",
       "      <td>1</td>\n",
       "    </tr>\n",
       "    <tr>\n",
       "      <th>2</th>\n",
       "      <td>35</td>\n",
       "      <td>4</td>\n",
       "      <td>4</td>\n",
       "      <td>5</td>\n",
       "      <td>2</td>\n",
       "      <td>3</td>\n",
       "      <td>2</td>\n",
       "      <td>1</td>\n",
       "      <td>1</td>\n",
       "    </tr>\n",
       "    <tr>\n",
       "      <th>3</th>\n",
       "      <td>24</td>\n",
       "      <td>4</td>\n",
       "      <td>2</td>\n",
       "      <td>2</td>\n",
       "      <td>1</td>\n",
       "      <td>4</td>\n",
       "      <td>0</td>\n",
       "      <td>1</td>\n",
       "      <td>0</td>\n",
       "    </tr>\n",
       "    <tr>\n",
       "      <th>4</th>\n",
       "      <td>41</td>\n",
       "      <td>2</td>\n",
       "      <td>2</td>\n",
       "      <td>1</td>\n",
       "      <td>1</td>\n",
       "      <td>6</td>\n",
       "      <td>2</td>\n",
       "      <td>1</td>\n",
       "      <td>1</td>\n",
       "    </tr>\n",
       "  </tbody>\n",
       "</table>\n",
       "</div>"
      ],
      "text/plain": [
       "   age  economic.cond.national  economic.cond.household  Blair  Hague  Europe  \\\n",
       "0   43                       3                        3      4      1       2   \n",
       "1   36                       4                        4      4      4       5   \n",
       "2   35                       4                        4      5      2       3   \n",
       "3   24                       4                        2      2      1       4   \n",
       "4   41                       2                        2      1      1       6   \n",
       "\n",
       "   political.knowledge  vote_Labour  gender_male  \n",
       "0                    2            1            0  \n",
       "1                    2            1            1  \n",
       "2                    2            1            1  \n",
       "3                    0            1            0  \n",
       "4                    2            1            1  "
      ]
     },
     "execution_count": 21,
     "metadata": {},
     "output_type": "execute_result"
    }
   ],
   "source": [
    "election_dummy.head()"
   ]
  },
  {
   "cell_type": "code",
   "execution_count": 22,
   "id": "fe61671f-e53a-4753-b12a-6cde0654c63a",
   "metadata": {
    "tags": []
   },
   "outputs": [
    {
     "data": {
      "text/plain": [
       "vote_Labour\n",
       "1    0.69677\n",
       "0    0.30323\n",
       "Name: proportion, dtype: float64"
      ]
     },
     "execution_count": 22,
     "metadata": {},
     "output_type": "execute_result"
    }
   ],
   "source": [
    "election_dummy['vote_Labour'].value_counts(normalize=True)"
   ]
  },
  {
   "cell_type": "markdown",
   "id": "76aa25f2-c6fd-44c2-95ae-15ba9b8bd766",
   "metadata": {},
   "source": [
    "#### Though the proportion of Conservative category seems less compared to Labour, it is more than 30% of the total number of observations. Hence, this can be used for further model analysis."
   ]
  },
  {
   "cell_type": "markdown",
   "id": "fa3fb7b5-5018-428b-a9f0-46bf69523492",
   "metadata": {},
   "source": [
    "### Univariate Analysis"
   ]
  },
  {
   "cell_type": "code",
   "execution_count": 31,
   "id": "357340ae-2342-45c3-bd2b-81b725538e2d",
   "metadata": {
    "tags": []
   },
   "outputs": [
    {
     "data": {
      "text/html": [
       "<div>\n",
       "<style scoped>\n",
       "    .dataframe tbody tr th:only-of-type {\n",
       "        vertical-align: middle;\n",
       "    }\n",
       "\n",
       "    .dataframe tbody tr th {\n",
       "        vertical-align: top;\n",
       "    }\n",
       "\n",
       "    .dataframe thead th {\n",
       "        text-align: right;\n",
       "    }\n",
       "</style>\n",
       "<table border=\"1\" class=\"dataframe\">\n",
       "  <thead>\n",
       "    <tr style=\"text-align: right;\">\n",
       "      <th></th>\n",
       "      <th>age</th>\n",
       "      <th>economic.cond.national</th>\n",
       "      <th>economic.cond.household</th>\n",
       "      <th>Blair</th>\n",
       "      <th>Hague</th>\n",
       "      <th>Europe</th>\n",
       "      <th>political.knowledge</th>\n",
       "      <th>vote_Labour</th>\n",
       "      <th>gender_male</th>\n",
       "    </tr>\n",
       "  </thead>\n",
       "  <tbody>\n",
       "    <tr>\n",
       "      <th>count</th>\n",
       "      <td>1517.000000</td>\n",
       "      <td>1517.000000</td>\n",
       "      <td>1517.000000</td>\n",
       "      <td>1517.000000</td>\n",
       "      <td>1517.000000</td>\n",
       "      <td>1517.000000</td>\n",
       "      <td>1517.000000</td>\n",
       "      <td>1517.000000</td>\n",
       "      <td>1517.000000</td>\n",
       "    </tr>\n",
       "    <tr>\n",
       "      <th>mean</th>\n",
       "      <td>54.241266</td>\n",
       "      <td>3.245221</td>\n",
       "      <td>3.137772</td>\n",
       "      <td>3.335531</td>\n",
       "      <td>2.749506</td>\n",
       "      <td>6.740277</td>\n",
       "      <td>1.540541</td>\n",
       "      <td>0.696770</td>\n",
       "      <td>0.467370</td>\n",
       "    </tr>\n",
       "    <tr>\n",
       "      <th>std</th>\n",
       "      <td>15.701741</td>\n",
       "      <td>0.881792</td>\n",
       "      <td>0.931069</td>\n",
       "      <td>1.174772</td>\n",
       "      <td>1.232479</td>\n",
       "      <td>3.299043</td>\n",
       "      <td>1.084417</td>\n",
       "      <td>0.459805</td>\n",
       "      <td>0.499099</td>\n",
       "    </tr>\n",
       "    <tr>\n",
       "      <th>min</th>\n",
       "      <td>24.000000</td>\n",
       "      <td>1.000000</td>\n",
       "      <td>1.000000</td>\n",
       "      <td>1.000000</td>\n",
       "      <td>1.000000</td>\n",
       "      <td>1.000000</td>\n",
       "      <td>0.000000</td>\n",
       "      <td>0.000000</td>\n",
       "      <td>0.000000</td>\n",
       "    </tr>\n",
       "    <tr>\n",
       "      <th>25%</th>\n",
       "      <td>41.000000</td>\n",
       "      <td>3.000000</td>\n",
       "      <td>3.000000</td>\n",
       "      <td>2.000000</td>\n",
       "      <td>2.000000</td>\n",
       "      <td>4.000000</td>\n",
       "      <td>0.000000</td>\n",
       "      <td>0.000000</td>\n",
       "      <td>0.000000</td>\n",
       "    </tr>\n",
       "    <tr>\n",
       "      <th>50%</th>\n",
       "      <td>53.000000</td>\n",
       "      <td>3.000000</td>\n",
       "      <td>3.000000</td>\n",
       "      <td>4.000000</td>\n",
       "      <td>2.000000</td>\n",
       "      <td>6.000000</td>\n",
       "      <td>2.000000</td>\n",
       "      <td>1.000000</td>\n",
       "      <td>0.000000</td>\n",
       "    </tr>\n",
       "    <tr>\n",
       "      <th>75%</th>\n",
       "      <td>67.000000</td>\n",
       "      <td>4.000000</td>\n",
       "      <td>4.000000</td>\n",
       "      <td>4.000000</td>\n",
       "      <td>4.000000</td>\n",
       "      <td>10.000000</td>\n",
       "      <td>2.000000</td>\n",
       "      <td>1.000000</td>\n",
       "      <td>1.000000</td>\n",
       "    </tr>\n",
       "    <tr>\n",
       "      <th>max</th>\n",
       "      <td>93.000000</td>\n",
       "      <td>5.000000</td>\n",
       "      <td>5.000000</td>\n",
       "      <td>5.000000</td>\n",
       "      <td>5.000000</td>\n",
       "      <td>11.000000</td>\n",
       "      <td>3.000000</td>\n",
       "      <td>1.000000</td>\n",
       "      <td>1.000000</td>\n",
       "    </tr>\n",
       "  </tbody>\n",
       "</table>\n",
       "</div>"
      ],
      "text/plain": [
       "               age  economic.cond.national  economic.cond.household  \\\n",
       "count  1517.000000             1517.000000              1517.000000   \n",
       "mean     54.241266                3.245221                 3.137772   \n",
       "std      15.701741                0.881792                 0.931069   \n",
       "min      24.000000                1.000000                 1.000000   \n",
       "25%      41.000000                3.000000                 3.000000   \n",
       "50%      53.000000                3.000000                 3.000000   \n",
       "75%      67.000000                4.000000                 4.000000   \n",
       "max      93.000000                5.000000                 5.000000   \n",
       "\n",
       "             Blair        Hague       Europe  political.knowledge  \\\n",
       "count  1517.000000  1517.000000  1517.000000          1517.000000   \n",
       "mean      3.335531     2.749506     6.740277             1.540541   \n",
       "std       1.174772     1.232479     3.299043             1.084417   \n",
       "min       1.000000     1.000000     1.000000             0.000000   \n",
       "25%       2.000000     2.000000     4.000000             0.000000   \n",
       "50%       4.000000     2.000000     6.000000             2.000000   \n",
       "75%       4.000000     4.000000    10.000000             2.000000   \n",
       "max       5.000000     5.000000    11.000000             3.000000   \n",
       "\n",
       "       vote_Labour  gender_male  \n",
       "count  1517.000000  1517.000000  \n",
       "mean      0.696770     0.467370  \n",
       "std       0.459805     0.499099  \n",
       "min       0.000000     0.000000  \n",
       "25%       0.000000     0.000000  \n",
       "50%       1.000000     0.000000  \n",
       "75%       1.000000     1.000000  \n",
       "max       1.000000     1.000000  "
      ]
     },
     "execution_count": 31,
     "metadata": {},
     "output_type": "execute_result"
    }
   ],
   "source": [
    "election_dummy.describe()"
   ]
  },
  {
   "cell_type": "markdown",
   "id": "72aae7f7-53bc-4695-a4b6-b84826c5d08c",
   "metadata": {},
   "source": [
    "From the above summary, it is observed that Labor party has more voting compared to Conservative party. Similarly, Blair(Labour party leader) received more than 50% of high ratings(4 and 5). Hague has less supporters with more than 50% of ratings below the median scale of 3. Male and female voters are almost equal in number (male voters are 49.9%). European integration remains a contentious issue with strong opinions on both sides (Median value at 6)."
   ]
  },
  {
   "cell_type": "code",
   "execution_count": 95,
   "id": "82dedc81-829f-4465-8c14-a8f86c43e261",
   "metadata": {
    "tags": []
   },
   "outputs": [
    {
     "data": {
      "image/png": "[encoded data removed]",
      "text/plain": [
       "<Figure size 500x300 with 1 Axes>"
      ]
     },
     "metadata": {},
     "output_type": "display_data"
    },
    {
     "data": {
      "image/png": "[encoded data removed]",
      "text/plain": [
       "<Figure size 500x300 with 1 Axes>"
      ]
     },
     "metadata": {},
     "output_type": "display_data"
    },
    {
     "data": {
      "image/png": "[encoded data removed]",
      "text/plain": [
       "<Figure size 500x300 with 1 Axes>"
      ]
     },
     "metadata": {},
     "output_type": "display_data"
    },
    {
     "data": {
      "image/png": "[encoded data removed]",
      "text/plain": [
       "<Figure size 500x300 with 1 Axes>"
      ]
     },
     "metadata": {},
     "output_type": "display_data"
    },
    {
     "data": {
      "image/png": "[encoded data removed]",
      "text/plain": [
       "<Figure size 500x300 with 1 Axes>"
      ]
     },
     "metadata": {},
     "output_type": "display_data"
    },
    {
     "data": {
      "image/png": "[encoded data removed]",
      "text/plain": [
       "<Figure size 500x300 with 1 Axes>"
      ]
     },
     "metadata": {},
     "output_type": "display_data"
    },
    {
     "data": {
      "image/png": "[encoded data removed]",
      "text/plain": [
       "<Figure size 500x300 with 1 Axes>"
      ]
     },
     "metadata": {},
     "output_type": "display_data"
    },
    {
     "data": {
      "image/png": "[encoded data removed]",
      "text/plain": [
       "<Figure size 500x300 with 1 Axes>"
      ]
     },
     "metadata": {},
     "output_type": "display_data"
    }
   ],
   "source": [
    "for col in ['vote','economic.cond.national', 'economic.cond.household', 'Blair', 'Hague', 'Europe', 'political.knowledge','gender']:\n",
    "    plt.figure(figsize=(5, 3))\n",
    "    sns.countplot(x=col, data=election)\n",
    "    plt.show()"
   ]
  },
  {
   "cell_type": "markdown",
   "id": "88ba3759-f326-483f-89bd-037a39523e96",
   "metadata": {},
   "source": [
    "#### Scaling is not done for any columns in the dataset as all columns share the same range of numbers."
   ]
  },
  {
   "cell_type": "markdown",
   "id": "dc6e5f65-1f08-49ca-a2fc-45324256cf1f",
   "metadata": {},
   "source": [
    "### Train Test Split"
   ]
  },
  {
   "cell_type": "code",
   "execution_count": 32,
   "id": "17aa572c-d3a7-48b3-b610-b0e3efde22e7",
   "metadata": {
    "tags": []
   },
   "outputs": [],
   "source": [
    "from sklearn.model_selection import train_test_split"
   ]
  },
  {
   "cell_type": "code",
   "execution_count": 33,
   "id": "41c22acc-0bad-4de4-9b9b-00aa0d2e832a",
   "metadata": {
    "tags": []
   },
   "outputs": [],
   "source": [
    "X=election_dummy.drop('vote_Labour',axis=1)"
   ]
  },
  {
   "cell_type": "code",
   "execution_count": 34,
   "id": "f4880639-b75c-415b-8e5e-f790da84bd4d",
   "metadata": {
    "tags": []
   },
   "outputs": [],
   "source": [
    "y=election_dummy['vote_Labour']"
   ]
  },
  {
   "cell_type": "code",
   "execution_count": 35,
   "id": "7e4ef808-12e9-4806-8321-c4aec12ee3d9",
   "metadata": {
    "tags": []
   },
   "outputs": [],
   "source": [
    "X_train, X_test, y_train, y_test = train_test_split(X,y,train_size=0.7,test_size=0.30,random_state=1,stratify=election_dummy['vote_Labour'])"
   ]
  },
  {
   "cell_type": "code",
   "execution_count": 36,
   "id": "d2eab6f5-e81a-4e9d-9da5-7e4defd32cc9",
   "metadata": {
    "tags": []
   },
   "outputs": [
    {
     "data": {
      "text/plain": [
       "vote_Labour\n",
       "1    0.697368\n",
       "0    0.302632\n",
       "Name: proportion, dtype: float64"
      ]
     },
     "execution_count": 36,
     "metadata": {},
     "output_type": "execute_result"
    }
   ],
   "source": [
    "y_test.value_counts(normalize=True)"
   ]
  },
  {
   "cell_type": "code",
   "execution_count": 37,
   "id": "66b7a657-d732-4910-bb7a-c99b7697d647",
   "metadata": {
    "tags": []
   },
   "outputs": [
    {
     "data": {
      "text/plain": [
       "vote_Labour\n",
       "1    0.696513\n",
       "0    0.303487\n",
       "Name: proportion, dtype: float64"
      ]
     },
     "execution_count": 37,
     "metadata": {},
     "output_type": "execute_result"
    }
   ],
   "source": [
    "y_train.value_counts(normalize=True)"
   ]
  },
  {
   "cell_type": "markdown",
   "id": "5eb25e4f-a461-40bf-8e02-fad61610e7f7",
   "metadata": {},
   "source": [
    "Same proportion of Labour(1) and Conservative(0) has been used for both train and test data using stratify parameter for better performance of the model."
   ]
  },
  {
   "cell_type": "code",
   "execution_count": 38,
   "id": "ae775208-f079-444c-935a-a3bda6a976cf",
   "metadata": {
    "tags": []
   },
   "outputs": [
    {
     "name": "stdout",
     "output_type": "stream",
     "text": [
      "age :\n",
      "Lower Limit:  2.0\n",
      "Upper Limit:  106.0\n",
      "\n",
      "\n",
      "economic.cond.national :\n",
      "Lower Limit:  1.5\n",
      "Upper Limit:  5.5\n",
      "\n",
      "\n",
      "economic.cond.household :\n",
      "Lower Limit:  1.5\n",
      "Upper Limit:  5.5\n",
      "\n",
      "\n",
      "Blair :\n",
      "Lower Limit:  -1.0\n",
      "Upper Limit:  7.0\n",
      "\n",
      "\n",
      "Hague :\n",
      "Lower Limit:  -1.0\n",
      "Upper Limit:  7.0\n",
      "\n",
      "\n",
      "Europe :\n",
      "Lower Limit:  -5.0\n",
      "Upper Limit:  19.0\n",
      "\n",
      "\n",
      "political.knowledge :\n",
      "Lower Limit:  -3.0\n",
      "Upper Limit:  5.0\n",
      "\n",
      "\n",
      "vote_Labour :\n",
      "Lower Limit:  -1.5\n",
      "Upper Limit:  2.5\n",
      "\n",
      "\n",
      "gender_male :\n",
      "Lower Limit:  -1.5\n",
      "Upper Limit:  2.5\n",
      "\n",
      "\n"
     ]
    }
   ],
   "source": [
    "for col in election_dummy.columns:\n",
    "    Q1,Q3=np.percentile(election_dummy[col],[25,75])\n",
    "    IQR=Q3-Q1\n",
    "    print(col,\":\")\n",
    "    print(\"Lower Limit: \",Q1-(1.5*IQR))\n",
    "    print(\"Upper Limit: \",Q3+(1.5*IQR))\n",
    "    print(\"\\n\")"
   ]
  },
  {
   "cell_type": "markdown",
   "id": "cea44e3e-4c37-4936-a239-a33fab3a43c5",
   "metadata": {},
   "source": [
    "## Modelling"
   ]
  },
  {
   "cell_type": "markdown",
   "id": "080174e6-69da-462b-8613-b90f62450123",
   "metadata": {},
   "source": [
    "#### Since the target variable is categorical, we are applying Logistic regression, Decistion Tree and Random forest models to check the performance of these models on the data, before choosing the most optimized model for prediction."
   ]
  },
  {
   "cell_type": "markdown",
   "id": "dfb40563-3cbc-475d-b6ae-fa93f78434bb",
   "metadata": {},
   "source": [
    "### Logistic Regression"
   ]
  },
  {
   "cell_type": "code",
   "execution_count": 39,
   "id": "0ec59528-1aa3-4c9c-a3b1-b9d009bbae81",
   "metadata": {},
   "outputs": [],
   "source": [
    "from sklearn.linear_model import LogisticRegression"
   ]
  },
  {
   "cell_type": "code",
   "execution_count": 40,
   "id": "a4ee6fed-710a-4476-a0e6-5ebc52b8628d",
   "metadata": {
    "tags": []
   },
   "outputs": [],
   "source": [
    "LogitModel=LogisticRegression(solver='newton-cg',max_iter=100,penalty=None)"
   ]
  },
  {
   "cell_type": "code",
   "execution_count": 41,
   "id": "79220194-67f8-4908-89a9-553a24542d86",
   "metadata": {
    "tags": []
   },
   "outputs": [
    {
     "data": {
      "text/html": [
       "<style>#sk-container-id-1 {color: black;}#sk-container-id-1 pre{padding: 0;}#sk-container-id-1 div.sk-toggleable {background-color: white;}#sk-container-id-1 label.sk-toggleable__label {cursor: pointer;display: block;width: 100%;margin-bottom: 0;padding: 0.3em;box-sizing: border-box;text-align: center;}#sk-container-id-1 label.sk-toggleable__label-arrow:before {content: \"▸\";float: left;margin-right: 0.25em;color: #696969;}#sk-container-id-1 label.sk-toggleable__label-arrow:hover:before {color: black;}#sk-container-id-1 div.sk-estimator:hover label.sk-toggleable__label-arrow:before {color: black;}#sk-container-id-1 div.sk-toggleable__content {max-height: 0;max-width: 0;overflow: hidden;text-align: left;background-color: #f0f8ff;}#sk-container-id-1 div.sk-toggleable__content pre {margin: 0.2em;color: black;border-radius: 0.25em;background-color: #f0f8ff;}#sk-container-id-1 input.sk-toggleable__control:checked~div.sk-toggleable__content {max-height: 200px;max-width: 100%;overflow: auto;}#sk-container-id-1 input.sk-toggleable__control:checked~label.sk-toggleable__label-arrow:before {content: \"▾\";}#sk-container-id-1 div.sk-estimator input.sk-toggleable__control:checked~label.sk-toggleable__label {background-color: #d4ebff;}#sk-container-id-1 div.sk-label input.sk-toggleable__control:checked~label.sk-toggleable__label {background-color: #d4ebff;}#sk-container-id-1 input.sk-hidden--visually {border: 0;clip: rect(1px 1px 1px 1px);clip: rect(1px, 1px, 1px, 1px);height: 1px;margin: -1px;overflow: hidden;padding: 0;position: absolute;width: 1px;}#sk-container-id-1 div.sk-estimator {font-family: monospace;background-color: #f0f8ff;border: 1px dotted black;border-radius: 0.25em;box-sizing: border-box;margin-bottom: 0.5em;}#sk-container-id-1 div.sk-estimator:hover {background-color: #d4ebff;}#sk-container-id-1 div.sk-parallel-item::after {content: \"\";width: 100%;border-bottom: 1px solid gray;flex-grow: 1;}#sk-container-id-1 div.sk-label:hover label.sk-toggleable__label {background-color: #d4ebff;}#sk-container-id-1 div.sk-serial::before {content: \"\";position: absolute;border-left: 1px solid gray;box-sizing: border-box;top: 0;bottom: 0;left: 50%;z-index: 0;}#sk-container-id-1 div.sk-serial {display: flex;flex-direction: column;align-items: center;background-color: white;padding-right: 0.2em;padding-left: 0.2em;position: relative;}#sk-container-id-1 div.sk-item {position: relative;z-index: 1;}#sk-container-id-1 div.sk-parallel {display: flex;align-items: stretch;justify-content: center;background-color: white;position: relative;}#sk-container-id-1 div.sk-item::before, #sk-container-id-1 div.sk-parallel-item::before {content: \"\";position: absolute;border-left: 1px solid gray;box-sizing: border-box;top: 0;bottom: 0;left: 50%;z-index: -1;}#sk-container-id-1 div.sk-parallel-item {display: flex;flex-direction: column;z-index: 1;position: relative;background-color: white;}#sk-container-id-1 div.sk-parallel-item:first-child::after {align-self: flex-end;width: 50%;}#sk-container-id-1 div.sk-parallel-item:last-child::after {align-self: flex-start;width: 50%;}#sk-container-id-1 div.sk-parallel-item:only-child::after {width: 0;}#sk-container-id-1 div.sk-dashed-wrapped {border: 1px dashed gray;margin: 0 0.4em 0.5em 0.4em;box-sizing: border-box;padding-bottom: 0.4em;background-color: white;}#sk-container-id-1 div.sk-label label {font-family: monospace;font-weight: bold;display: inline-block;line-height: 1.2em;}#sk-container-id-1 div.sk-label-container {text-align: center;}#sk-container-id-1 div.sk-container {/* jupyter's `normalize.less` sets `[hidden] { display: none; }` but bootstrap.min.css set `[hidden] { display: none !important; }` so we also need the `!important` here to be able to override the default hidden behavior on the sphinx rendered scikit-learn.org. See: https://github.com/scikit-learn/scikit-learn/issues/21755 */display: inline-block !important;position: relative;}#sk-container-id-1 div.sk-text-repr-fallback {display: none;}</style><div id=\"sk-container-id-1\" class=\"sk-top-container\"><div class=\"sk-text-repr-fallback\"><pre>LogisticRegression(penalty=None, solver=&#x27;newton-cg&#x27;)</pre><b>In a Jupyter environment, please rerun this cell to show the HTML representation or trust the notebook. <br />On GitHub, the HTML representation is unable to render, please try loading this page with nbviewer.org.</b></div><div class=\"sk-container\" hidden><div class=\"sk-item\"><div class=\"sk-estimator sk-toggleable\"><input class=\"sk-toggleable__control sk-hidden--visually\" id=\"sk-estimator-id-1\" type=\"checkbox\" checked><label for=\"sk-estimator-id-1\" class=\"sk-toggleable__label sk-toggleable__label-arrow\">LogisticRegression</label><div class=\"sk-toggleable__content\"><pre>LogisticRegression(penalty=None, solver=&#x27;newton-cg&#x27;)</pre></div></div></div></div></div>"
      ],
      "text/plain": [
       "LogisticRegression(penalty=None, solver='newton-cg')"
      ]
     },
     "execution_count": 41,
     "metadata": {},
     "output_type": "execute_result"
    }
   ],
   "source": [
    "LogitModel.fit(X_train, y_train)"
   ]
  },
  {
   "cell_type": "code",
   "execution_count": 42,
   "id": "bf3bdbb6-3438-45ac-99c2-80393ccf2797",
   "metadata": {
    "tags": []
   },
   "outputs": [],
   "source": [
    "y_train_predict=LogitModel.predict(X_train)\n",
    "y_test_predict=LogitModel.predict(X_test)"
   ]
  },
  {
   "cell_type": "code",
   "execution_count": 43,
   "id": "9c06e453-7b6c-4d2e-9130-fa9bf094c3e6",
   "metadata": {
    "tags": []
   },
   "outputs": [],
   "source": [
    "ytest_predict_prob=LogitModel.predict_proba(X_test)"
   ]
  },
  {
   "cell_type": "code",
   "execution_count": 44,
   "id": "b0809b03-7171-44b0-94da-33b25a1b28a4",
   "metadata": {
    "tags": []
   },
   "outputs": [
    {
     "data": {
      "text/html": [
       "<div>\n",
       "<style scoped>\n",
       "    .dataframe tbody tr th:only-of-type {\n",
       "        vertical-align: middle;\n",
       "    }\n",
       "\n",
       "    .dataframe tbody tr th {\n",
       "        vertical-align: top;\n",
       "    }\n",
       "\n",
       "    .dataframe thead th {\n",
       "        text-align: right;\n",
       "    }\n",
       "</style>\n",
       "<table border=\"1\" class=\"dataframe\">\n",
       "  <thead>\n",
       "    <tr style=\"text-align: right;\">\n",
       "      <th></th>\n",
       "      <th>0</th>\n",
       "      <th>1</th>\n",
       "    </tr>\n",
       "  </thead>\n",
       "  <tbody>\n",
       "    <tr>\n",
       "      <th>0</th>\n",
       "      <td>0.199510</td>\n",
       "      <td>0.800490</td>\n",
       "    </tr>\n",
       "    <tr>\n",
       "      <th>1</th>\n",
       "      <td>0.610744</td>\n",
       "      <td>0.389256</td>\n",
       "    </tr>\n",
       "    <tr>\n",
       "      <th>2</th>\n",
       "      <td>0.083468</td>\n",
       "      <td>0.916532</td>\n",
       "    </tr>\n",
       "    <tr>\n",
       "      <th>3</th>\n",
       "      <td>0.030816</td>\n",
       "      <td>0.969184</td>\n",
       "    </tr>\n",
       "    <tr>\n",
       "      <th>4</th>\n",
       "      <td>0.135993</td>\n",
       "      <td>0.864007</td>\n",
       "    </tr>\n",
       "  </tbody>\n",
       "</table>\n",
       "</div>"
      ],
      "text/plain": [
       "          0         1\n",
       "0  0.199510  0.800490\n",
       "1  0.610744  0.389256\n",
       "2  0.083468  0.916532\n",
       "3  0.030816  0.969184\n",
       "4  0.135993  0.864007"
      ]
     },
     "execution_count": 44,
     "metadata": {},
     "output_type": "execute_result"
    }
   ],
   "source": [
    "pd.DataFrame(ytest_predict_prob).head()"
   ]
  },
  {
   "cell_type": "code",
   "execution_count": 45,
   "id": "e35c6a86-7911-416c-a45c-a9256bd4ec10",
   "metadata": {
    "tags": []
   },
   "outputs": [
    {
     "data": {
      "text/plain": [
       "0.827521206409048"
      ]
     },
     "execution_count": 45,
     "metadata": {},
     "output_type": "execute_result"
    }
   ],
   "source": [
    "LogitModel.score(X_train, y_train)"
   ]
  },
  {
   "cell_type": "code",
   "execution_count": 46,
   "id": "6f9c8da4-5286-433c-9ffd-3121ce8befe8",
   "metadata": {
    "tags": []
   },
   "outputs": [
    {
     "data": {
      "text/plain": [
       "0.8552631578947368"
      ]
     },
     "execution_count": 46,
     "metadata": {},
     "output_type": "execute_result"
    }
   ],
   "source": [
    "LogitModel.score(X_test, y_test)"
   ]
  },
  {
   "cell_type": "code",
   "execution_count": 47,
   "id": "d0ee0f39-6eb0-488c-b59b-aff1bd01a85a",
   "metadata": {
    "tags": []
   },
   "outputs": [],
   "source": [
    "#ROC -Receiver operating characterisitcs\n",
    "#AUC - Area under the curve"
   ]
  },
  {
   "cell_type": "code",
   "execution_count": 48,
   "id": "04e0409b-296f-482e-a5dc-43310d2fcb77",
   "metadata": {
    "tags": []
   },
   "outputs": [],
   "source": [
    "from sklearn.metrics import roc_curve, roc_auc_score,confusion_matrix,classification_report\n",
    "from sklearn.metrics import ConfusionMatrixDisplay"
   ]
  },
  {
   "cell_type": "markdown",
   "id": "35f2241d-859c-49df-8753-75b8a3589eaf",
   "metadata": {},
   "source": [
    "#### ROC Curve and AUC Score"
   ]
  },
  {
   "cell_type": "code",
   "execution_count": 49,
   "id": "a666b439-d3fe-4744-8810-d0aa854a6505",
   "metadata": {
    "tags": []
   },
   "outputs": [
    {
     "name": "stdout",
     "output_type": "stream",
     "text": [
      "0.8770833508434261\n"
     ]
    },
    {
     "data": {
      "text/plain": [
       "[<matplotlib.lines.Line2D at 0x2719a1b9e10>]"
      ]
     },
     "execution_count": 49,
     "metadata": {},
     "output_type": "execute_result"
    },
    {
     "data": {
      "image/png": "[encoded data removed]",
      "text/plain": [
       "<Figure size 640x480 with 1 Axes>"
      ]
     },
     "metadata": {},
     "output_type": "display_data"
    }
   ],
   "source": [
    "ytrain_predict_prob=LogitModel.predict_proba(X_train)[:,1]\n",
    "train_auc=roc_auc_score(y_train,ytrain_predict_prob)\n",
    "train_fpr,train_tpr,train_thresholds=roc_curve(y_train,ytrain_predict_prob)\n",
    "print(train_auc)\n",
    "plt.plot([0,1],[0,1],linestyle=\"--\")\n",
    "plt.plot(train_fpr,train_tpr)"
   ]
  },
  {
   "cell_type": "code",
   "execution_count": 50,
   "id": "aae3cd07-48ce-472d-b530-97e1d2f0424d",
   "metadata": {
    "tags": []
   },
   "outputs": [
    {
     "name": "stdout",
     "output_type": "stream",
     "text": [
      "0.9128383921246923\n"
     ]
    },
    {
     "data": {
      "text/plain": [
       "[<matplotlib.lines.Line2D at 0x2719a22f390>]"
      ]
     },
     "execution_count": 50,
     "metadata": {},
     "output_type": "execute_result"
    },
    {
     "data": {
      "image/png": "[encoded data removed]",
      "text/plain": [
       "<Figure size 640x480 with 1 Axes>"
      ]
     },
     "metadata": {},
     "output_type": "display_data"
    }
   ],
   "source": [
    "ytest_predict_prob=LogitModel.predict_proba(X_test)[:,1]\n",
    "test_auc=roc_auc_score(y_test,ytest_predict_prob)\n",
    "test_fpr,test_tpr,test_thresholds=roc_curve(y_test,ytest_predict_prob)\n",
    "print(test_auc)\n",
    "plt.plot([0,1],[0,1],linestyle=\"--\")\n",
    "plt.plot(test_fpr,test_tpr)"
   ]
  },
  {
   "cell_type": "markdown",
   "id": "f9b9672e-74d0-4323-b3d8-d496766b963f",
   "metadata": {},
   "source": [
    "#### Confusion Matrix"
   ]
  },
  {
   "cell_type": "code",
   "execution_count": 51,
   "id": "b49004c1-b689-4637-a6b3-bfd56c255278",
   "metadata": {
    "tags": []
   },
   "outputs": [
    {
     "data": {
      "text/plain": [
       "array([[213, 109],\n",
       "       [ 74, 665]], dtype=int64)"
      ]
     },
     "execution_count": 51,
     "metadata": {},
     "output_type": "execute_result"
    }
   ],
   "source": [
    "confusion_matrix(y_train,y_train_predict)"
   ]
  },
  {
   "cell_type": "code",
   "execution_count": 52,
   "id": "9ecc8cd5-eb20-4099-8238-72b75ce447c1",
   "metadata": {
    "tags": []
   },
   "outputs": [
    {
     "data": {
      "text/plain": [
       "<sklearn.metrics._plot.confusion_matrix.ConfusionMatrixDisplay at 0x2719a1c16d0>"
      ]
     },
     "execution_count": 52,
     "metadata": {},
     "output_type": "execute_result"
    },
    {
     "data": {
      "image/png": "[encoded data removed]",
      "text/plain": [
       "<Figure size 640x480 with 2 Axes>"
      ]
     },
     "metadata": {},
     "output_type": "display_data"
    }
   ],
   "source": [
    "ConfusionMatrixDisplay.from_predictions(y_train,y_train_predict)"
   ]
  },
  {
   "cell_type": "code",
   "execution_count": 53,
   "id": "475562be-f122-4aad-bc17-ed4e63e297b1",
   "metadata": {
    "tags": []
   },
   "outputs": [
    {
     "data": {
      "text/plain": [
       "array([[ 94,  44],\n",
       "       [ 22, 296]], dtype=int64)"
      ]
     },
     "execution_count": 53,
     "metadata": {},
     "output_type": "execute_result"
    }
   ],
   "source": [
    "confusion_matrix(y_test,y_test_predict)"
   ]
  },
  {
   "cell_type": "code",
   "execution_count": 54,
   "id": "06ec6db0-31c3-4b45-beea-689da42c448d",
   "metadata": {
    "tags": []
   },
   "outputs": [
    {
     "data": {
      "text/plain": [
       "<sklearn.metrics._plot.confusion_matrix.ConfusionMatrixDisplay at 0x2719a267bd0>"
      ]
     },
     "execution_count": 54,
     "metadata": {},
     "output_type": "execute_result"
    },
    {
     "data": {
      "image/png": "[encoded data removed]",
      "text/plain": [
       "<Figure size 640x480 with 2 Axes>"
      ]
     },
     "metadata": {},
     "output_type": "display_data"
    }
   ],
   "source": [
    "ConfusionMatrixDisplay.from_predictions(y_test,y_test_predict)"
   ]
  },
  {
   "cell_type": "markdown",
   "id": "26eadb86-2a39-4ae9-8252-046d96cd870e",
   "metadata": {},
   "source": [
    "#### Classification Report"
   ]
  },
  {
   "cell_type": "code",
   "execution_count": 55,
   "id": "aa95f2e0-a848-4449-acd1-c832765e5366",
   "metadata": {
    "tags": []
   },
   "outputs": [
    {
     "name": "stdout",
     "output_type": "stream",
     "text": [
      "              precision    recall  f1-score   support\n",
      "\n",
      "           0       0.74      0.66      0.70       322\n",
      "           1       0.86      0.90      0.88       739\n",
      "\n",
      "    accuracy                           0.83      1061\n",
      "   macro avg       0.80      0.78      0.79      1061\n",
      "weighted avg       0.82      0.83      0.82      1061\n",
      "\n"
     ]
    }
   ],
   "source": [
    "print(classification_report(y_train,y_train_predict))"
   ]
  },
  {
   "cell_type": "code",
   "execution_count": 56,
   "id": "86fa22ba-3f8a-46e5-8328-fa0a891f941e",
   "metadata": {
    "tags": []
   },
   "outputs": [
    {
     "name": "stdout",
     "output_type": "stream",
     "text": [
      "              precision    recall  f1-score   support\n",
      "\n",
      "           0       0.81      0.68      0.74       138\n",
      "           1       0.87      0.93      0.90       318\n",
      "\n",
      "    accuracy                           0.86       456\n",
      "   macro avg       0.84      0.81      0.82       456\n",
      "weighted avg       0.85      0.86      0.85       456\n",
      "\n"
     ]
    }
   ],
   "source": [
    "print(classification_report(y_test,y_test_predict))"
   ]
  },
  {
   "cell_type": "markdown",
   "id": "c13090be-0513-47f6-9cb9-ccb9288e6324",
   "metadata": {},
   "source": [
    "#### Inferences(Logistic Regression Model):\n",
    "##### The Conservative category f1-score is below 70% while it is above 90% for Labour category. This can be due to the imbalance in the number of records in the data. Also, the logistic regression model performance is good as it's prediction accuracy rate is almost similar to both train and test data."
   ]
  },
  {
   "cell_type": "markdown",
   "id": "276ecee7-d27d-4df8-ad27-08faf99587be",
   "metadata": {
    "tags": []
   },
   "source": [
    "### Decision Tree"
   ]
  },
  {
   "cell_type": "code",
   "execution_count": 59,
   "id": "7025f93d-f94a-4221-a894-a223a76d3929",
   "metadata": {
    "tags": []
   },
   "outputs": [],
   "source": [
    "from sklearn.tree import DecisionTreeClassifier\n",
    "from sklearn import tree"
   ]
  },
  {
   "cell_type": "code",
   "execution_count": 60,
   "id": "1873d3fe-dc3c-4436-8300-91e24d869fa7",
   "metadata": {
    "tags": []
   },
   "outputs": [],
   "source": [
    "# accuracy_train=[]\n",
    "# accuracy_test=[]"
   ]
  },
  {
   "cell_type": "code",
   "execution_count": 61,
   "id": "e820425b-d9e7-446b-8487-615954f09f4b",
   "metadata": {
    "tags": []
   },
   "outputs": [],
   "source": [
    "max_depth_values = [3,4,5,6,7]\n",
    "min_samples_split_values = range(30,61)\n",
    "min_samples_leaf_values = range(10,21)"
   ]
  },
  {
   "cell_type": "code",
   "execution_count": 62,
   "id": "78383011-eea6-405c-89b9-ba6844dbb02e",
   "metadata": {
    "tags": []
   },
   "outputs": [],
   "source": [
    "best_score_dt = 0\n",
    "best_params_dt = {}"
   ]
  },
  {
   "cell_type": "code",
   "execution_count": 63,
   "id": "98d9e776-ba43-431f-a51a-627949d91e84",
   "metadata": {},
   "outputs": [
    {
     "name": "stdout",
     "output_type": "stream",
     "text": [
      "Best Parameters: {'max_depth': 6, 'min_samples_split': 33, 'min_samples_leaf': 10}\n",
      "Best Score: 0.8486842105263158\n"
     ]
    }
   ],
   "source": [
    "for max_depth in max_depth_values:\n",
    "    for min_samples_split in min_samples_split_values:\n",
    "        for min_samples_leaf in min_samples_leaf_values:\n",
    "            dt_model = DecisionTreeClassifier(criterion='gini',max_depth=max_depth,min_samples_split=min_samples_split,min_samples_leaf=min_samples_leaf,random_state=1)\n",
    "            dt_model.fit(X_train, y_train)\n",
    "\n",
    "            score = dt_model.score(X_test, y_test)\n",
    "\n",
    "            if score > best_score_dt:\n",
    "                best_score_dt = score\n",
    "                best_params_dt = {\n",
    "                    'max_depth': max_depth,\n",
    "                    'min_samples_split': min_samples_split,\n",
    "                    'min_samples_leaf': min_samples_leaf\n",
    "                }\n",
    "\n",
    "print(\"Best Parameters:\", best_params_dt)\n",
    "print(\"Best Score:\", best_score_dt)"
   ]
  },
  {
   "cell_type": "markdown",
   "id": "bd4fc841-1554-4fa6-955a-aae69a2ab169",
   "metadata": {},
   "source": [
    "Possible range of values for each parameters has been set to run in loop and identifed the best paramter values with comparitively high accuracy"
   ]
  },
  {
   "cell_type": "code",
   "execution_count": 96,
   "id": "7cf96239-3456-4d76-949a-c20a9b8c3f03",
   "metadata": {
    "tags": []
   },
   "outputs": [],
   "source": [
    "dt_model=DecisionTreeClassifier(criterion='gini',max_depth=6,min_samples_split=33,min_samples_leaf=10,random_state=1)\n",
    "dt_model.fit(X_train,y_train)\n",
    "train_tables=['No','Yes']\n",
    "dot_file='tree_file.dot'\n",
    "tree_file=open(dot_file,'w')\n",
    "dot_data=tree.export_graphviz(dt_model,out_file=tree_file,feature_names=list(X_train), class_names=list(train_tables))\n",
    "tree_file.close()"
   ]
  },
  {
   "cell_type": "markdown",
   "id": "b7793c0c-b627-4885-ac8d-54229f9d2ee3",
   "metadata": {},
   "source": [
    "The decision tree can be visualized by copy pasting the code in the below link\n",
    "http://www.webgraphviz.com/?tab=map"
   ]
  },
  {
   "cell_type": "code",
   "execution_count": 97,
   "id": "f4d51b58-78e8-473f-9f0f-bc1f095edd4d",
   "metadata": {
    "tags": []
   },
   "outputs": [
    {
     "data": {
      "text/plain": [
       "array([0.06131654, 0.04451217, 0.00661513, 0.1192126 , 0.42334649,\n",
       "       0.19401435, 0.1486345 , 0.00234821])"
      ]
     },
     "execution_count": 97,
     "metadata": {},
     "output_type": "execute_result"
    }
   ],
   "source": [
    "dt_model.feature_importances_"
   ]
  },
  {
   "cell_type": "code",
   "execution_count": 98,
   "id": "1eec4f84-f3dd-45ff-b747-ad0ea0ed6c8b",
   "metadata": {
    "tags": []
   },
   "outputs": [
    {
     "data": {
      "text/plain": [
       "Index(['age', 'economic.cond.national', 'economic.cond.household', 'Blair',\n",
       "       'Hague', 'Europe', 'political.knowledge', 'gender_male'],\n",
       "      dtype='object')"
      ]
     },
     "execution_count": 98,
     "metadata": {},
     "output_type": "execute_result"
    }
   ],
   "source": [
    "X_train.columns"
   ]
  },
  {
   "cell_type": "code",
   "execution_count": 99,
   "id": "d3046cbb-8e5a-495c-8c67-3b57dc353b66",
   "metadata": {
    "tags": []
   },
   "outputs": [
    {
     "name": "stdout",
     "output_type": "stream",
     "text": [
      "                         Importance\n",
      "Hague                      0.423346\n",
      "Europe                     0.194014\n",
      "political.knowledge        0.148634\n",
      "Blair                      0.119213\n",
      "age                        0.061317\n",
      "economic.cond.national     0.044512\n",
      "economic.cond.household    0.006615\n",
      "gender_male                0.002348\n"
     ]
    }
   ],
   "source": [
    "print(pd.DataFrame(dt_model.feature_importances_,columns=[\"Importance\"],index=X_train.columns).sort_values(\"Importance\",ascending=False))"
   ]
  },
  {
   "cell_type": "markdown",
   "id": "047eaa2b-87eb-4104-bd58-2c66b6b41970",
   "metadata": {},
   "source": [
    "The above result shows the important features considered in determining the party to vote. In this case, the rating of Hague is highly considered for voting decision."
   ]
  },
  {
   "cell_type": "code",
   "execution_count": 100,
   "id": "6911d9be-68b2-44e6-9f30-3245d691cfa4",
   "metadata": {
    "tags": []
   },
   "outputs": [],
   "source": [
    "y_train_predict_dt=dt_model.predict(X_train)\n",
    "y_test_predict_dt=dt_model.predict(X_test)"
   ]
  },
  {
   "cell_type": "code",
   "execution_count": 101,
   "id": "ca4e9001-e92d-4541-bcbb-1619cd6e8ef3",
   "metadata": {
    "tags": []
   },
   "outputs": [
    {
     "data": {
      "text/plain": [
       "0.8454288407163054"
      ]
     },
     "execution_count": 101,
     "metadata": {},
     "output_type": "execute_result"
    }
   ],
   "source": [
    "dt_model.score(X_train, y_train)"
   ]
  },
  {
   "cell_type": "code",
   "execution_count": 102,
   "id": "82b0797d-632f-4b93-bee4-a5253356514b",
   "metadata": {
    "tags": []
   },
   "outputs": [
    {
     "data": {
      "text/plain": [
       "0.8486842105263158"
      ]
     },
     "execution_count": 102,
     "metadata": {},
     "output_type": "execute_result"
    }
   ],
   "source": [
    "dt_model.score(X_test, y_test)"
   ]
  },
  {
   "cell_type": "markdown",
   "id": "58b91083-76b4-4c26-8749-c3df61f5e851",
   "metadata": {},
   "source": [
    "#### ROC Curve and AUC Score"
   ]
  },
  {
   "cell_type": "code",
   "execution_count": 103,
   "id": "22bbf9ba-5713-40e9-a91c-6384fbb50ae9",
   "metadata": {
    "tags": []
   },
   "outputs": [
    {
     "name": "stdout",
     "output_type": "stream",
     "text": [
      "0.9117428285663857\n"
     ]
    },
    {
     "data": {
      "text/plain": [
       "[<matplotlib.lines.Line2D at 0x27199af9150>]"
      ]
     },
     "execution_count": 103,
     "metadata": {},
     "output_type": "execute_result"
    },
    {
     "data": {
      "image/png": "[encoded data removed]",
      "text/plain": [
       "<Figure size 640x480 with 1 Axes>"
      ]
     },
     "metadata": {},
     "output_type": "display_data"
    }
   ],
   "source": [
    "ytrain_predict_prob_dt=dt_model.predict_proba(X_train)[:,1]\n",
    "train_auc_dt=roc_auc_score(y_train,ytrain_predict_prob_dt)\n",
    "dt_train_fpr,dt_train_tpr,dt_train_thresholds=roc_curve(y_train,ytrain_predict_prob_dt)\n",
    "print(train_auc_dt)\n",
    "plt.plot([0,1],[0,1],linestyle=\"--\")\n",
    "plt.plot(dt_train_fpr,dt_train_tpr)"
   ]
  },
  {
   "cell_type": "code",
   "execution_count": 104,
   "id": "60ea6777-3733-4ef1-8453-bb5185aab80d",
   "metadata": {
    "tags": []
   },
   "outputs": [
    {
     "name": "stdout",
     "output_type": "stream",
     "text": [
      "0.8773243095433416\n"
     ]
    },
    {
     "data": {
      "text/plain": [
       "[<matplotlib.lines.Line2D at 0x27199a85b50>]"
      ]
     },
     "execution_count": 104,
     "metadata": {},
     "output_type": "execute_result"
    },
    {
     "data": {
      "image/png": "[encoded data removed]",
      "text/plain": [
       "<Figure size 640x480 with 1 Axes>"
      ]
     },
     "metadata": {},
     "output_type": "display_data"
    }
   ],
   "source": [
    "ytest_predict_prob_dt=dt_model.predict_proba(X_test)[:,1]\n",
    "test_auc_dt=roc_auc_score(y_test,ytest_predict_prob_dt)\n",
    "dt_test_fpr,dt_test_tpr,dt_test_thresholds=roc_curve(y_test,ytest_predict_prob_dt)\n",
    "print(test_auc_dt)\n",
    "plt.plot([0,1],[0,1],linestyle=\"--\")\n",
    "plt.plot(dt_test_fpr,dt_test_tpr)"
   ]
  },
  {
   "cell_type": "markdown",
   "id": "39d7fe93-ba4c-49d8-9e31-c7cb4c669ac9",
   "metadata": {
    "tags": []
   },
   "source": [
    "#### Confusion Matrix"
   ]
  },
  {
   "cell_type": "code",
   "execution_count": 105,
   "id": "5b1bd293-660e-4cdd-a378-fa5bd7264699",
   "metadata": {
    "tags": []
   },
   "outputs": [
    {
     "data": {
      "text/plain": [
       "array([[233,  89],\n",
       "       [ 75, 664]], dtype=int64)"
      ]
     },
     "execution_count": 105,
     "metadata": {},
     "output_type": "execute_result"
    }
   ],
   "source": [
    "confusion_matrix(y_train,y_train_predict_dt)"
   ]
  },
  {
   "cell_type": "code",
   "execution_count": 106,
   "id": "ac3ed23b-857e-4bab-9d3f-a9cb0772eebc",
   "metadata": {
    "tags": []
   },
   "outputs": [
    {
     "data": {
      "text/plain": [
       "<sklearn.metrics._plot.confusion_matrix.ConfusionMatrixDisplay at 0x27198837950>"
      ]
     },
     "execution_count": 106,
     "metadata": {},
     "output_type": "execute_result"
    },
    {
     "data": {
      "image/png": "[encoded data removed]",
      "text/plain": [
       "<Figure size 640x480 with 2 Axes>"
      ]
     },
     "metadata": {},
     "output_type": "display_data"
    }
   ],
   "source": [
    "ConfusionMatrixDisplay.from_predictions(y_train,y_train_predict_dt)"
   ]
  },
  {
   "cell_type": "code",
   "execution_count": 107,
   "id": "a536aea6-5dd1-44f4-9ba7-2987637da635",
   "metadata": {
    "tags": []
   },
   "outputs": [
    {
     "data": {
      "text/plain": [
       "array([[ 97,  41],\n",
       "       [ 28, 290]], dtype=int64)"
      ]
     },
     "execution_count": 107,
     "metadata": {},
     "output_type": "execute_result"
    }
   ],
   "source": [
    "confusion_matrix(y_test,y_test_predict_dt)"
   ]
  },
  {
   "cell_type": "code",
   "execution_count": 108,
   "id": "d9246cc6-febf-465c-a0c1-a4f94e3b65ee",
   "metadata": {
    "tags": []
   },
   "outputs": [
    {
     "data": {
      "text/plain": [
       "<sklearn.metrics._plot.confusion_matrix.ConfusionMatrixDisplay at 0x27199a99f50>"
      ]
     },
     "execution_count": 108,
     "metadata": {},
     "output_type": "execute_result"
    },
    {
     "data": {
      "image/png": "[encoded data removed]",
      "text/plain": [
       "<Figure size 640x480 with 2 Axes>"
      ]
     },
     "metadata": {},
     "output_type": "display_data"
    }
   ],
   "source": [
    "ConfusionMatrixDisplay.from_predictions(y_test,y_test_predict_dt)"
   ]
  },
  {
   "cell_type": "markdown",
   "id": "d19afa2e-dd78-446b-8d95-aa4a455722b2",
   "metadata": {},
   "source": [
    "#### Classification Report"
   ]
  },
  {
   "cell_type": "code",
   "execution_count": 109,
   "id": "5327e925-d5e9-4be1-b38d-454f46f62f0d",
   "metadata": {
    "tags": []
   },
   "outputs": [
    {
     "name": "stdout",
     "output_type": "stream",
     "text": [
      "              precision    recall  f1-score   support\n",
      "\n",
      "           0       0.76      0.72      0.74       322\n",
      "           1       0.88      0.90      0.89       739\n",
      "\n",
      "    accuracy                           0.85      1061\n",
      "   macro avg       0.82      0.81      0.81      1061\n",
      "weighted avg       0.84      0.85      0.84      1061\n",
      "\n"
     ]
    }
   ],
   "source": [
    "print(classification_report(y_train,y_train_predict_dt))"
   ]
  },
  {
   "cell_type": "code",
   "execution_count": 110,
   "id": "725cdc97-641b-4b15-8ef4-40b8429dc78e",
   "metadata": {
    "tags": []
   },
   "outputs": [
    {
     "name": "stdout",
     "output_type": "stream",
     "text": [
      "              precision    recall  f1-score   support\n",
      "\n",
      "           0       0.78      0.70      0.74       138\n",
      "           1       0.88      0.91      0.89       318\n",
      "\n",
      "    accuracy                           0.85       456\n",
      "   macro avg       0.83      0.81      0.82       456\n",
      "weighted avg       0.85      0.85      0.85       456\n",
      "\n"
     ]
    }
   ],
   "source": [
    "print(classification_report(y_test,y_test_predict_dt))"
   ]
  },
  {
   "cell_type": "markdown",
   "id": "676e99aa-75ae-4bd9-88df-4f094c22037d",
   "metadata": {},
   "source": [
    "#### Inferences(Decision Tree Model):\n",
    "##### The F1-score (0.74,0.89) and accuracy (0.85) of Decision Tree model is almost similar to the Logisitic Regression results (Accuracy - 0.86, F-score (0.74,0.90) ).\n"
   ]
  },
  {
   "cell_type": "markdown",
   "id": "2f4d50b8-4b12-45eb-ad69-26599b68f963",
   "metadata": {},
   "source": [
    "### Random Forest Model"
   ]
  },
  {
   "cell_type": "code",
   "execution_count": 79,
   "id": "1bb8e022-fbae-4159-9f27-799bd1e6c9eb",
   "metadata": {},
   "outputs": [],
   "source": [
    "from sklearn.ensemble import RandomForestClassifier"
   ]
  },
  {
   "cell_type": "code",
   "execution_count": 80,
   "id": "10287534-fd84-493d-a07c-a8035b7ff9d8",
   "metadata": {
    "tags": []
   },
   "outputs": [],
   "source": [
    "n_estimators_values = [50, 100, 150]\n",
    "max_depth_values = [3,4,5,6,7]\n",
    "min_samples_split_values = range(30,61)\n",
    "min_samples_leaf_values = range(10,21)"
   ]
  },
  {
   "cell_type": "code",
   "execution_count": 81,
   "id": "17781129-5a97-44c7-9e9b-f483e671dece",
   "metadata": {
    "tags": []
   },
   "outputs": [],
   "source": [
    "best_score = 0\n",
    "best_params = {}"
   ]
  },
  {
   "cell_type": "code",
   "execution_count": 82,
   "id": "03459adc-ce25-4a6e-a5c2-8c9b41562988",
   "metadata": {
    "tags": []
   },
   "outputs": [
    {
     "name": "stdout",
     "output_type": "stream",
     "text": [
      "Best Parameters: {'n_estimators': 50, 'max_depth': 6, 'min_samples_split': 30, 'min_samples_leaf': 13}\n",
      "Best Score: 0.8771929824561403\n"
     ]
    }
   ],
   "source": [
    "for n_estimators in n_estimators_values:\n",
    "    for max_depth in max_depth_values:\n",
    "        for min_samples_split in min_samples_split_values:\n",
    "            for min_samples_leaf in min_samples_leaf_values:\n",
    "                RF_model = RandomForestClassifier(n_estimators=n_estimators,\n",
    "                                                max_depth=max_depth,\n",
    "                                                min_samples_split=min_samples_split,\n",
    "                                                min_samples_leaf=min_samples_leaf,\n",
    "                                                random_state=1)\n",
    "                RF_model.fit(X_train, y_train)\n",
    "                \n",
    "                score = RF_model.score(X_test, y_test)\n",
    "                \n",
    "                # Check if current score is better than the best score\n",
    "                if score > best_score:\n",
    "                    best_score = score\n",
    "                    best_params = {\n",
    "                        'n_estimators': n_estimators,\n",
    "                        'max_depth': max_depth,\n",
    "                        'min_samples_split': min_samples_split,\n",
    "                        'min_samples_leaf': min_samples_leaf\n",
    "                    }\n",
    "\n",
    "print(\"Best Parameters:\", best_params)\n",
    "print(\"Best Score:\", best_score)\n"
   ]
  },
  {
   "cell_type": "code",
   "execution_count": 83,
   "id": "a81c5117-b8ad-4657-ace6-02146314bf2a",
   "metadata": {
    "tags": []
   },
   "outputs": [
    {
     "data": {
      "text/html": [
       "<style>#sk-container-id-2 {color: black;}#sk-container-id-2 pre{padding: 0;}#sk-container-id-2 div.sk-toggleable {background-color: white;}#sk-container-id-2 label.sk-toggleable__label {cursor: pointer;display: block;width: 100%;margin-bottom: 0;padding: 0.3em;box-sizing: border-box;text-align: center;}#sk-container-id-2 label.sk-toggleable__label-arrow:before {content: \"▸\";float: left;margin-right: 0.25em;color: #696969;}#sk-container-id-2 label.sk-toggleable__label-arrow:hover:before {color: black;}#sk-container-id-2 div.sk-estimator:hover label.sk-toggleable__label-arrow:before {color: black;}#sk-container-id-2 div.sk-toggleable__content {max-height: 0;max-width: 0;overflow: hidden;text-align: left;background-color: #f0f8ff;}#sk-container-id-2 div.sk-toggleable__content pre {margin: 0.2em;color: black;border-radius: 0.25em;background-color: #f0f8ff;}#sk-container-id-2 input.sk-toggleable__control:checked~div.sk-toggleable__content {max-height: 200px;max-width: 100%;overflow: auto;}#sk-container-id-2 input.sk-toggleable__control:checked~label.sk-toggleable__label-arrow:before {content: \"▾\";}#sk-container-id-2 div.sk-estimator input.sk-toggleable__control:checked~label.sk-toggleable__label {background-color: #d4ebff;}#sk-container-id-2 div.sk-label input.sk-toggleable__control:checked~label.sk-toggleable__label {background-color: #d4ebff;}#sk-container-id-2 input.sk-hidden--visually {border: 0;clip: rect(1px 1px 1px 1px);clip: rect(1px, 1px, 1px, 1px);height: 1px;margin: -1px;overflow: hidden;padding: 0;position: absolute;width: 1px;}#sk-container-id-2 div.sk-estimator {font-family: monospace;background-color: #f0f8ff;border: 1px dotted black;border-radius: 0.25em;box-sizing: border-box;margin-bottom: 0.5em;}#sk-container-id-2 div.sk-estimator:hover {background-color: #d4ebff;}#sk-container-id-2 div.sk-parallel-item::after {content: \"\";width: 100%;border-bottom: 1px solid gray;flex-grow: 1;}#sk-container-id-2 div.sk-label:hover label.sk-toggleable__label {background-color: #d4ebff;}#sk-container-id-2 div.sk-serial::before {content: \"\";position: absolute;border-left: 1px solid gray;box-sizing: border-box;top: 0;bottom: 0;left: 50%;z-index: 0;}#sk-container-id-2 div.sk-serial {display: flex;flex-direction: column;align-items: center;background-color: white;padding-right: 0.2em;padding-left: 0.2em;position: relative;}#sk-container-id-2 div.sk-item {position: relative;z-index: 1;}#sk-container-id-2 div.sk-parallel {display: flex;align-items: stretch;justify-content: center;background-color: white;position: relative;}#sk-container-id-2 div.sk-item::before, #sk-container-id-2 div.sk-parallel-item::before {content: \"\";position: absolute;border-left: 1px solid gray;box-sizing: border-box;top: 0;bottom: 0;left: 50%;z-index: -1;}#sk-container-id-2 div.sk-parallel-item {display: flex;flex-direction: column;z-index: 1;position: relative;background-color: white;}#sk-container-id-2 div.sk-parallel-item:first-child::after {align-self: flex-end;width: 50%;}#sk-container-id-2 div.sk-parallel-item:last-child::after {align-self: flex-start;width: 50%;}#sk-container-id-2 div.sk-parallel-item:only-child::after {width: 0;}#sk-container-id-2 div.sk-dashed-wrapped {border: 1px dashed gray;margin: 0 0.4em 0.5em 0.4em;box-sizing: border-box;padding-bottom: 0.4em;background-color: white;}#sk-container-id-2 div.sk-label label {font-family: monospace;font-weight: bold;display: inline-block;line-height: 1.2em;}#sk-container-id-2 div.sk-label-container {text-align: center;}#sk-container-id-2 div.sk-container {/* jupyter's `normalize.less` sets `[hidden] { display: none; }` but bootstrap.min.css set `[hidden] { display: none !important; }` so we also need the `!important` here to be able to override the default hidden behavior on the sphinx rendered scikit-learn.org. See: https://github.com/scikit-learn/scikit-learn/issues/21755 */display: inline-block !important;position: relative;}#sk-container-id-2 div.sk-text-repr-fallback {display: none;}</style><div id=\"sk-container-id-2\" class=\"sk-top-container\"><div class=\"sk-text-repr-fallback\"><pre>RandomForestClassifier(max_depth=6, min_samples_leaf=13, min_samples_split=30,\n",
       "                       n_estimators=50, random_state=1)</pre><b>In a Jupyter environment, please rerun this cell to show the HTML representation or trust the notebook. <br />On GitHub, the HTML representation is unable to render, please try loading this page with nbviewer.org.</b></div><div class=\"sk-container\" hidden><div class=\"sk-item\"><div class=\"sk-estimator sk-toggleable\"><input class=\"sk-toggleable__control sk-hidden--visually\" id=\"sk-estimator-id-2\" type=\"checkbox\" checked><label for=\"sk-estimator-id-2\" class=\"sk-toggleable__label sk-toggleable__label-arrow\">RandomForestClassifier</label><div class=\"sk-toggleable__content\"><pre>RandomForestClassifier(max_depth=6, min_samples_leaf=13, min_samples_split=30,\n",
       "                       n_estimators=50, random_state=1)</pre></div></div></div></div></div>"
      ],
      "text/plain": [
       "RandomForestClassifier(max_depth=6, min_samples_leaf=13, min_samples_split=30,\n",
       "                       n_estimators=50, random_state=1)"
      ]
     },
     "execution_count": 83,
     "metadata": {},
     "output_type": "execute_result"
    }
   ],
   "source": [
    "RF_model = RandomForestClassifier(n_estimators=50,max_depth=6,min_samples_split=30,min_samples_leaf=13,random_state=1)\n",
    "RF_model.fit(X_train, y_train)"
   ]
  },
  {
   "cell_type": "code",
   "execution_count": 84,
   "id": "85d734ac-e85d-40d6-9e37-cdca5f1eacbd",
   "metadata": {
    "tags": []
   },
   "outputs": [],
   "source": [
    "y_train_predict_rf=RF_model.predict(X_train)\n",
    "y_test_predict_rf=RF_model.predict(X_test)"
   ]
  },
  {
   "cell_type": "code",
   "execution_count": 85,
   "id": "c9d48140-655a-491f-86f7-59fa86c9690f",
   "metadata": {
    "tags": []
   },
   "outputs": [
    {
     "data": {
      "text/plain": [
       "0.8482563619227145"
      ]
     },
     "execution_count": 85,
     "metadata": {},
     "output_type": "execute_result"
    }
   ],
   "source": [
    "RF_model.score(X_train, y_train)"
   ]
  },
  {
   "cell_type": "code",
   "execution_count": 86,
   "id": "b035a23c-e0a3-4cde-8e0c-e2a30a708cde",
   "metadata": {
    "tags": []
   },
   "outputs": [
    {
     "data": {
      "text/plain": [
       "0.8771929824561403"
      ]
     },
     "execution_count": 86,
     "metadata": {},
     "output_type": "execute_result"
    }
   ],
   "source": [
    "RF_model.score(X_test, y_test)"
   ]
  },
  {
   "cell_type": "markdown",
   "id": "fa3c66ef-7920-4732-b127-f99f37e3f266",
   "metadata": {},
   "source": [
    "#### ROC Curve and AUC Score"
   ]
  },
  {
   "cell_type": "code",
   "execution_count": 87,
   "id": "3215d500-f46b-43f3-a21b-abe95f7f4442",
   "metadata": {
    "tags": []
   },
   "outputs": [
    {
     "name": "stdout",
     "output_type": "stream",
     "text": [
      "0.908389295589978\n"
     ]
    },
    {
     "data": {
      "text/plain": [
       "[<matplotlib.lines.Line2D at 0x2719884a850>]"
      ]
     },
     "execution_count": 87,
     "metadata": {},
     "output_type": "execute_result"
    },
    {
     "data": {
      "image/png": "[encoded data removed]",
      "text/plain": [
       "<Figure size 640x480 with 1 Axes>"
      ]
     },
     "metadata": {},
     "output_type": "display_data"
    }
   ],
   "source": [
    "ytrain_predict_prob_RF=RF_model.predict_proba(X_train)[:,1]\n",
    "train_auc_rf=roc_auc_score(y_train,ytrain_predict_prob_RF)\n",
    "rf_train_fpr,rf_train_tpr,rf_train_thresholds=roc_curve(y_train,ytrain_predict_prob_RF)\n",
    "print(train_auc_rf)\n",
    "plt.plot([0,1],[0,1],linestyle=\"--\")\n",
    "plt.plot(rf_train_fpr,rf_train_tpr)"
   ]
  },
  {
   "cell_type": "code",
   "execution_count": 88,
   "id": "42986b70-14eb-4ba8-b6f7-3251162866bc",
   "metadata": {
    "tags": []
   },
   "outputs": [
    {
     "name": "stdout",
     "output_type": "stream",
     "text": [
      "0.9226825266611977\n"
     ]
    },
    {
     "data": {
      "text/plain": [
       "[<matplotlib.lines.Line2D at 0x271988418d0>]"
      ]
     },
     "execution_count": 88,
     "metadata": {},
     "output_type": "execute_result"
    },
    {
     "data": {
      "image/png": "[encoded data removed]",
      "text/plain": [
       "<Figure size 640x480 with 1 Axes>"
      ]
     },
     "metadata": {},
     "output_type": "display_data"
    }
   ],
   "source": [
    "ytest_predict_prob_RF=RF_model.predict_proba(X_test)[:,1]\n",
    "test_auc_rf=roc_auc_score(y_test,ytest_predict_prob_RF)\n",
    "rf_test_fpr,rf_test_tpr,rf_test_thresholds=roc_curve(y_test,ytest_predict_prob_RF)\n",
    "print(test_auc_rf)\n",
    "plt.plot([0,1],[0,1],linestyle=\"--\")\n",
    "plt.plot(rf_test_fpr,rf_test_tpr)"
   ]
  },
  {
   "cell_type": "markdown",
   "id": "78813952-d423-4c81-9219-189184b535be",
   "metadata": {
    "tags": []
   },
   "source": [
    "#### Confusion Matrix"
   ]
  },
  {
   "cell_type": "code",
   "execution_count": 89,
   "id": "6f2e5d6d-0b0c-4aae-b45a-f7da7eb95490",
   "metadata": {
    "tags": []
   },
   "outputs": [
    {
     "data": {
      "text/plain": [
       "array([[215, 107],\n",
       "       [ 54, 685]], dtype=int64)"
      ]
     },
     "execution_count": 89,
     "metadata": {},
     "output_type": "execute_result"
    }
   ],
   "source": [
    "confusion_matrix(y_train,y_train_predict_rf)"
   ]
  },
  {
   "cell_type": "code",
   "execution_count": 90,
   "id": "3fcaf95a-e7e7-4469-8992-06e2e602d689",
   "metadata": {
    "tags": []
   },
   "outputs": [
    {
     "data": {
      "text/plain": [
       "<sklearn.metrics._plot.confusion_matrix.ConfusionMatrixDisplay at 0x271988b3390>"
      ]
     },
     "execution_count": 90,
     "metadata": {},
     "output_type": "execute_result"
    },
    {
     "data": {
      "image/png": "[encoded data removed]",
      "text/plain": [
       "<Figure size 640x480 with 2 Axes>"
      ]
     },
     "metadata": {},
     "output_type": "display_data"
    }
   ],
   "source": [
    "ConfusionMatrixDisplay.from_predictions(y_train,y_train_predict_rf)"
   ]
  },
  {
   "cell_type": "code",
   "execution_count": 91,
   "id": "946fd7c3-3c4e-448b-bb40-267a12c076b0",
   "metadata": {
    "tags": []
   },
   "outputs": [
    {
     "data": {
      "text/plain": [
       "array([[ 99,  39],\n",
       "       [ 17, 301]], dtype=int64)"
      ]
     },
     "execution_count": 91,
     "metadata": {},
     "output_type": "execute_result"
    }
   ],
   "source": [
    "confusion_matrix(y_test,y_test_predict_rf)"
   ]
  },
  {
   "cell_type": "code",
   "execution_count": 92,
   "id": "5bd93db4-f163-4b0e-b332-81164b748c3b",
   "metadata": {
    "tags": []
   },
   "outputs": [
    {
     "data": {
      "text/plain": [
       "<sklearn.metrics._plot.confusion_matrix.ConfusionMatrixDisplay at 0x271987cfb90>"
      ]
     },
     "execution_count": 92,
     "metadata": {},
     "output_type": "execute_result"
    },
    {
     "data": {
      "image/png": "[encoded data removed]",
      "text/plain": [
       "<Figure size 640x480 with 2 Axes>"
      ]
     },
     "metadata": {},
     "output_type": "display_data"
    }
   ],
   "source": [
    "ConfusionMatrixDisplay.from_predictions(y_test,y_test_predict_rf)"
   ]
  },
  {
   "cell_type": "markdown",
   "id": "63021343-ea4a-4a71-9c1f-d7b95f7537b7",
   "metadata": {},
   "source": [
    "#### Classification Report"
   ]
  },
  {
   "cell_type": "code",
   "execution_count": 93,
   "id": "e6063857-b224-4694-9d46-fb9f8ba0a0b0",
   "metadata": {
    "tags": []
   },
   "outputs": [
    {
     "name": "stdout",
     "output_type": "stream",
     "text": [
      "              precision    recall  f1-score   support\n",
      "\n",
      "           0       0.80      0.67      0.73       322\n",
      "           1       0.86      0.93      0.89       739\n",
      "\n",
      "    accuracy                           0.85      1061\n",
      "   macro avg       0.83      0.80      0.81      1061\n",
      "weighted avg       0.84      0.85      0.84      1061\n",
      "\n"
     ]
    }
   ],
   "source": [
    "print(classification_report(y_train,y_train_predict_rf))"
   ]
  },
  {
   "cell_type": "code",
   "execution_count": 94,
   "id": "349b46ab-c28a-4e90-a4d8-1f614fc07047",
   "metadata": {
    "tags": []
   },
   "outputs": [
    {
     "name": "stdout",
     "output_type": "stream",
     "text": [
      "              precision    recall  f1-score   support\n",
      "\n",
      "           0       0.85      0.72      0.78       138\n",
      "           1       0.89      0.95      0.91       318\n",
      "\n",
      "    accuracy                           0.88       456\n",
      "   macro avg       0.87      0.83      0.85       456\n",
      "weighted avg       0.88      0.88      0.87       456\n",
      "\n"
     ]
    }
   ],
   "source": [
    "print(classification_report(y_test,y_test_predict_rf))"
   ]
  },
  {
   "cell_type": "markdown",
   "id": "5b52f080-9362-4d89-94fc-a8c929a6b46b",
   "metadata": {},
   "source": [
    "#### Inferences(Random Forest Model):\n",
    "##### Random Forest model gives more accurate prediction (88%) and f1-score values are also increased to 74% and 91% compared to above two models."
   ]
  },
  {
   "cell_type": "code",
   "execution_count": null,
   "id": "c0ea93bf-426f-4407-ac3f-4e5770e42e27",
   "metadata": {},
   "outputs": [],
   "source": []
  }
 ],
 "metadata": {
  "kernelspec": {
   "display_name": "Python 3 (ipykernel)",
   "language": "python",
   "name": "python3"
  },
  "language_info": {
   "codemirror_mode": {
    "name": "ipython",
    "version": 3
   },
   "file_extension": ".py",
   "mimetype": "text/x-python",
   "name": "python",
   "nbconvert_exporter": "python",
   "pygments_lexer": "ipython3",
   "version": "3.11.5"
  }
 },
 "nbformat": 4,
 "nbformat_minor": 5
}
